version https://git-lfs.github.com/spec/v1
oid sha256:3a34a670eecae4fa4c9fe0c6230664959db65ffe217a1b91832b9ee883a42242
size 18042752
